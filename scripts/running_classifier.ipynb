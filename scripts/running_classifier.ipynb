{
 "cells": [
  {
   "cell_type": "markdown",
   "id": "3cc3a861cf61ef55",
   "metadata": {
    "collapsed": false,
    "jupyter": {
     "outputs_hidden": false
    }
   },
   "source": [
    "# Running the Classifier\n",
    "\n"
   ]
  },
  {
   "cell_type": "markdown",
   "id": "625581a797ec991e",
   "metadata": {
    "collapsed": false,
    "jupyter": {
     "outputs_hidden": false
    }
   },
   "source": [
    "## Setting up the classes"
   ]
  },
  {
   "cell_type": "code",
   "execution_count": null,
   "id": "327d9c5468193f5d",
   "metadata": {
    "ExecuteTime": {
     "end_time": "2024-03-13T16:26:00.868546Z",
     "start_time": "2024-03-13T16:26:00.057355Z"
    },
    "collapsed": false,
    "jupyter": {
     "outputs_hidden": false
    }
   },
   "outputs": [],
   "source": [
    "!pip install dcm-classifier==0.6.0rc9"
   ]
  },
  {
   "cell_type": "code",
   "execution_count": null,
   "id": "6f60406e6bd8cb36",
   "metadata": {
    "ExecuteTime": {
     "end_time": "2024-03-12T20:54:41.250416Z",
     "start_time": "2024-03-12T20:54:41.037909Z"
    },
    "collapsed": false,
    "jupyter": {
     "outputs_hidden": false
    }
   },
   "outputs": [],
   "source": [
    "from dcm_classifier.study_processing import ProcessOneDicomStudyToVolumesMappingBase\n",
    "from dcm_classifier.image_type_inference import ImageTypeClassifierBase\n",
    "from pathlib import Path\n",
    "\n",
    "\n",
    "current_directory: Path = Path.cwd()\n",
    "root_directory = current_directory.parent\n",
    "\n",
    "session_directory = root_directory / \"tests\" / \"testing_data\" / \"anonymized_testing_data\" / \"anonymized_data\"\n",
    "\n",
    "model = root_directory / \"models\" / \"rf_classifier.onnx\"\n",
    "\n",
    "# create inferer object\n",
    "inferer = ImageTypeClassifierBase(classification_model_filename=model.as_posix())\n",
    "\n",
    "# create study for given session directory\n",
    "study = ProcessOneDicomStudyToVolumesMappingBase(\n",
    "    study_directory=session_directory.as_posix(), inferer=inferer\n",
    ")\n",
    "\n",
    "# run the inference on the study\n",
    "study.run_inference()"
   ]
  },
  {
   "cell_type": "markdown",
   "id": "aa5ec368dfbd73a3",
   "metadata": {
    "collapsed": false,
    "jupyter": {
     "outputs_hidden": false
    }
   },
   "source": [
    "## DICOM Selection\n",
    "\n",
    "In many applications we are interested in only specific modalities or images acquired along specfic plane. dcm-classifier makes it easy to make this selection. \n",
    "\n",
    "The code below shows how to parse all images within the study and how to choose a specific image, in this example it: Axial T1w\n",
    "\n",
    "NOTE: we can parse on a series or volume level. In most cases series has only one volume but in some cases such as Diffusion Weighted Imaging a series could have multiple volumes and have different `.get_volume_modality()` and `.get_series_modality()` outpus (Example: Volume 'b0' Series: 'dwig' meaning the B0 volume is one of the components of DWI image)"
   ]
  },
  {
   "cell_type": "code",
   "execution_count": null,
   "id": "4f2773f3-4667-4655-9c3d-b32a42f5aa60",
   "metadata": {},
   "outputs": [],
   "source": [
    "import itk\n",
    "\n",
    "ax_t1w = None\n",
    "for series_number, series in study.series_dictionary.items():\n",
    "    for index, volume in enumerate(series.get_volume_list()):\n",
    "        volume_modality = volume.get_volume_modality()\n",
    "        volume_acq_plane = volume.get_acquisition_plane()\n",
    "        print(f\"Series Number: {series_number} | Modality: {volume_modality} | Acq Plane: {volume_acq_plane}\")\n",
    "        if volume_modality == \"t1w\" and volume_acq_plane == \"ax\":\n",
    "            ax_t1w = volume.get_itk_image()"
   ]
  },
  {
   "cell_type": "markdown",
   "id": "ba68d3dc-c726-460c-9812-64d4e9219fd0",
   "metadata": {},
   "source": [
    "Our volume of interest is the T1w Axial image returned as ITK image"
   ]
  },
  {
   "cell_type": "code",
   "execution_count": null,
   "id": "22d80ecb-c6d9-49e0-b5cc-91835d6c44d2",
   "metadata": {},
   "outputs": [],
   "source": [
    "print(type(ax_t1w))\n",
    "print(ax_t1w)"
   ]
  },
  {
   "cell_type": "markdown",
   "id": "8258caa4e8f6ce9c",
   "metadata": {
    "collapsed": false,
    "jupyter": {
     "outputs_hidden": false
    }
   },
   "source": [
    "## Saving Sequences\n",
    "\n",
    "Saving volumetric data can be done in two ways here - using the ITK library or the popular (dcm2niix)[https://github.com/rordenlab/dcm2niix] package. For these examples, we are saving the Axial T1W selected earlier. \n",
    "\n",
    "Note: the example data used has been anonymized and the pixel intensity information was set as 0 for all voxels"
   ]
  },
  {
   "cell_type": "markdown",
   "id": "132dae0cc155b33f",
   "metadata": {
    "collapsed": false,
    "jupyter": {
     "outputs_hidden": false
    }
   },
   "source": [
    "#### Using ITK\n",
    "\n",
    "Once the image is obtained, the image can easily be saved using ITK. ITK is the preferred method for saving the images as it supports all image type supported by ITK such as NIfTI and NRRD in the example below."
   ]
  },
  {
   "cell_type": "code",
   "execution_count": null,
   "id": "dc7624cd311e63ec",
   "metadata": {
    "collapsed": false,
    "jupyter": {
     "outputs_hidden": false
    }
   },
   "outputs": [],
   "source": [
    "import itk\n",
    "\n",
    "# let's follow the BIDS naming system\n",
    "# Note: the information about the study or patient can be obtained using pydicom and a .dcm file corresponing to the volume\n",
    "# However, here we will make up the subject and sesion ids\n",
    "sub = \"sub-01\"\n",
    "ses = \"ses-01\"\n",
    "nifti_name = f\"{sub}_{ses}_desc-ax_t1w.nii.gz\"\n",
    "nrrd_name = f\"{sub}_{ses}_desc-ax_t1w.nrrd\"\n",
    "\n",
    "# save image as nifti and nrrd\n",
    "itk.imwrite(ax_t1w, nifti_name)\n",
    "itk.imwrite(ax_t1w, nrrd_name)"
   ]
  },
  {
   "cell_type": "markdown",
   "id": "a5cbd940-4308-4303-8a1e-1f57a24b1d28",
   "metadata": {},
   "source": [
    "#### Handling multiple images of the same modality\n",
    "\n",
    "We can have more than one image of the same modality. Here is a simple way how to save all the data utilizing the `run` parameter of BIDS format."
   ]
  },
  {
   "cell_type": "code",
   "execution_count": null,
   "id": "264d2632-5282-4fa9-a01e-526f57581192",
   "metadata": {},
   "outputs": [],
   "source": [
    "sub = \"sub-01\"\n",
    "ses = \"ses-01\"\n",
    "output_dir = '.'\n",
    "suffix = '.nii.gz'\n",
    "desc = \"usingITK\"\n",
    "\n",
    "for series_number, series in study.series_dictionary.items():\n",
    "    for index, volume in enumerate(series.get_volume_list()):\n",
    "        modality = volume.get_volume_modality()\n",
    "        plane = volume.get_acquisition_plane()\n",
    "        if modality == \"t1w\" and plane == \"ax\":\n",
    "            itk_volume = volume.get_itk_image() # get image\n",
    "            run_num = 1\n",
    "            fname = f\"{sub}_{ses}_run-00{run_num}_acq-{plane}_desc-{desc}_{modality}{suffix}\" # set filename\n",
    "            while Path(f\"{output_dir}/{fname}\").exists(): # ensure we increase run number instead of overwriting\n",
    "                fname = fname.replace(f\"run-00{run_num}\", f\"run-00{run_num+1}\")\n",
    "                run_num += 1\n",
    "            itk.imwrite(itk_volume, fname)\n",
    "            "
   ]
  },
  {
   "cell_type": "markdown",
   "id": "a234e78bf447bb18",
   "metadata": {
    "collapsed": false,
    "jupyter": {
     "outputs_hidden": false
    }
   },
   "source": [
    "#### Using dcm2niix\n",
    "\n",
    "Using dcm2niix is more complicated. We provide a function that takes path to the dcm2niix script together with other information."
   ]
  },
  {
   "cell_type": "code",
   "execution_count": null,
   "id": "aafd9e0c5aa9c2da",
   "metadata": {
    "collapsed": false,
    "jupyter": {
     "outputs_hidden": false
    }
   },
   "outputs": [],
   "source": [
    "from subprocess import run\n",
    "\n",
    "def create_nifti_file(\n",
    "    dcm2niix_path: str,\n",
    "    subject: str,\n",
    "    session: str,\n",
    "    modality: str,\n",
    "    plane: str,\n",
    "    output_dir: str,\n",
    "    dcm_dir: str,\n",
    "    desc: str = None,\n",
    ") -> None:\n",
    "    run_num = 1\n",
    "    if desc is not None:\n",
    "        fname = (\n",
    "            f\"{subject}_{session}_run-00{run_num}_acq-{plane}_desc-{desc}_{modality}\"\n",
    "        )\n",
    "    else:\n",
    "        fname = f\"{subject}_{session}_run-00{run_num}_acq-{plane}_{modality}\"\n",
    "    while Path(f\"{output_dir}/{fname}.nii.gz\").exists():\n",
    "        fname = fname.replace(f\"run-00{run_num}\", f\"run-00{run_num+1}\")\n",
    "        run_num += 1\n",
    "    run(\n",
    "        [dcm2niix_path, \"-o\", output_dir, \"-f\", fname, \"-z\", \"y\", dcm_dir]\n",
    "    ) \n",
    "    print(f\"{dcm2niix_path} -o {output_dir} -f {fname} -n -z y {dcm_dir}\")"
   ]
  },
  {
   "cell_type": "markdown",
   "id": "ae0313c96f431405",
   "metadata": {
    "collapsed": false,
    "jupyter": {
     "outputs_hidden": false
    }
   },
   "source": [
    "For robustness, the code below will move all individual DICOM files corresponging to the volume to a temporary directory. Then the dcm2niix script uses that directory to reed the files and save the output. The advantage of using the dcm2niix is that it produces the corresponding .json file the process is much more complicated and and slower comparing to ITK option above. "
   ]
  },
  {
   "cell_type": "code",
   "execution_count": null,
   "id": "493469b802c074bb",
   "metadata": {
    "collapsed": false,
    "jupyter": {
     "outputs_hidden": false
    }
   },
   "outputs": [],
   "source": [
    "import tempfile\n",
    "import shutil\n",
    "    \n",
    "dcm2niix_path = \"PATH TO dcm2niix\"\n",
    "\n",
    "sub = \"sub-01-test\"\n",
    "ses = \"ses-01-test\"\n",
    "desc = \"usingdcm2niix\"\n",
    "\n",
    "final_dir_path = \".\"\n",
    "\n",
    "for series_number, series in study.series_dictionary.items():\n",
    "    for index, volume in enumerate(series.get_volume_list()):\n",
    "        if volume.get_volume_modality() == \"t1w\" and volume.get_acquisition_plane() == \"ax\":\n",
    "            temp_dir = tempfile.mkdtemp()\n",
    "            file_list = volume.get_one_volume_dcm_filenames()\n",
    "            for file in file_list:\n",
    "                shutil.copy(file, temp_dir)\n",
    "            create_nifti_file(\n",
    "                dcm2niix_path=dcm2niix_path,\n",
    "                subject=sub,\n",
    "                session=ses,\n",
    "                modality=volume.get_volume_modality(),\n",
    "                plane=volume.get_acquisition_plane(),\n",
    "                output_dir=final_dir_path,\n",
    "                dcm_dir=temp_dir,\n",
    "                desc=desc\n",
    "            )"
   ]
  },
  {
   "cell_type": "code",
   "execution_count": null,
   "id": "fb9b5be8-15f6-43bd-a379-2945c8ff6849",
   "metadata": {},
   "outputs": [],
   "source": []
  }
 ],
 "metadata": {
  "kernelspec": {
   "display_name": "Python 3 (ipykernel)",
   "language": "python",
   "name": "python3"
  },
  "language_info": {
   "codemirror_mode": {
    "name": "ipython",
    "version": 3
   },
   "file_extension": ".py",
   "mimetype": "text/x-python",
   "name": "python",
   "nbconvert_exporter": "python",
   "pygments_lexer": "ipython3",
   "version": "3.10.12"
  }
 },
 "nbformat": 4,
 "nbformat_minor": 5
}
