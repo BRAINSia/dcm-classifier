{
 "cells": [
  {
   "cell_type": "markdown",
   "id": "3cc3a861cf61ef55",
   "metadata": {
    "collapsed": false,
    "jupyter": {
     "outputs_hidden": false
    }
   },
   "source": [
    "# Running the Classifier\n",
    "\n"
   ]
  },
  {
   "cell_type": "markdown",
   "id": "625581a797ec991e",
   "metadata": {
    "collapsed": false,
    "jupyter": {
     "outputs_hidden": false
    }
   },
   "source": [
    "## Setting up the classes\n",
    "\n",
    "This tutorial assumes the user has run the testing suite and has access to the testing data located in the `tests` directory. This can be done by running the following commands in the root directory of the repository."
   ]
  },
  {
   "metadata": {},
   "cell_type": "code",
   "outputs": [],
   "execution_count": null,
   "source": [
    "!git lfs fetch\n",
    "!git lfs checkout"
   ],
   "id": "fc4292140d6c767b"
  },
  {
   "cell_type": "code",
   "id": "327d9c5468193f5d",
   "metadata": {
    "collapsed": false,
    "jupyter": {
     "outputs_hidden": false
    },
    "ExecuteTime": {
     "end_time": "2024-04-09T15:21:10.329105Z",
     "start_time": "2024-04-09T15:21:08.622830Z"
    }
   },
   "source": "!pip install dcm-classifier==0.7.0",
   "outputs": [
    {
     "name": "stdout",
     "output_type": "stream",
     "text": [
      "Collecting dcm-classifier==0.7.0\r\n",
      "  Downloading dcm_classifier-0.7.0-py3-none-any.whl (70 kB)\r\n",
      "\u001B[2K     \u001B[90m━━━━━━━━━━━━━━━━━━━━━━━━━━━━━━━━━━━━━━━━\u001B[0m \u001B[32m70.4/70.4 KB\u001B[0m \u001B[31m2.7 MB/s\u001B[0m eta \u001B[36m0:00:00\u001B[0m\r\n",
      "\u001B[?25hRequirement already satisfied: pandas>=1.4.0 in /home/cavriley/programs/dcm-classifier/venv/lib/python3.10/site-packages (from dcm-classifier==0.7.0) (2.2.0)\r\n",
      "Requirement already satisfied: tabulate>=0.9.0 in /home/cavriley/programs/dcm-classifier/venv/lib/python3.10/site-packages (from dcm-classifier==0.7.0) (0.9.0)\r\n",
      "Requirement already satisfied: itk>=5.3.0 in /home/cavriley/programs/dcm-classifier/venv/lib/python3.10/site-packages (from dcm-classifier==0.7.0) (5.4rc2)\r\n",
      "Requirement already satisfied: onnxruntime>=1.16.2 in /home/cavriley/programs/dcm-classifier/venv/lib/python3.10/site-packages (from dcm-classifier==0.7.0) (1.16.3)\r\n",
      "Requirement already satisfied: python-gdcm>=3.0.10 in /home/cavriley/programs/dcm-classifier/venv/lib/python3.10/site-packages (from dcm-classifier==0.7.0) (3.0.23)\r\n",
      "Requirement already satisfied: pydicom>=2.2.0 in /home/cavriley/programs/dcm-classifier/venv/lib/python3.10/site-packages (from dcm-classifier==0.7.0) (2.4.4)\r\n",
      "Requirement already satisfied: itk-core>=5.3.0 in /home/cavriley/programs/dcm-classifier/venv/lib/python3.10/site-packages (from dcm-classifier==0.7.0) (5.4rc2)\r\n",
      "Requirement already satisfied: itk-io>=5.3.0 in /home/cavriley/programs/dcm-classifier/venv/lib/python3.10/site-packages (from dcm-classifier==0.7.0) (5.4rc2)\r\n",
      "Requirement already satisfied: pyarrow>=6.0.0 in /home/cavriley/programs/dcm-classifier/venv/lib/python3.10/site-packages (from dcm-classifier==0.7.0) (15.0.0)\r\n",
      "Requirement already satisfied: itk-filtering>=5.3.0 in /home/cavriley/programs/dcm-classifier/venv/lib/python3.10/site-packages (from dcm-classifier==0.7.0) (5.4rc2)\r\n",
      "Requirement already satisfied: itk-numerics>=5.3.0 in /home/cavriley/programs/dcm-classifier/venv/lib/python3.10/site-packages (from dcm-classifier==0.7.0) (5.4rc2)\r\n",
      "Requirement already satisfied: numpy in /home/cavriley/programs/dcm-classifier/venv/lib/python3.10/site-packages (from itk>=5.3.0->dcm-classifier==0.7.0) (1.26.4)\r\n",
      "Requirement already satisfied: itk-registration==5.4rc2 in /home/cavriley/programs/dcm-classifier/venv/lib/python3.10/site-packages (from itk>=5.3.0->dcm-classifier==0.7.0) (5.4rc2)\r\n",
      "Requirement already satisfied: itk-segmentation==5.4rc2 in /home/cavriley/programs/dcm-classifier/venv/lib/python3.10/site-packages (from itk>=5.3.0->dcm-classifier==0.7.0) (5.4rc2)\r\n",
      "Requirement already satisfied: protobuf in /home/cavriley/programs/dcm-classifier/venv/lib/python3.10/site-packages (from onnxruntime>=1.16.2->dcm-classifier==0.7.0) (3.20.2)\r\n",
      "Requirement already satisfied: flatbuffers in /home/cavriley/programs/dcm-classifier/venv/lib/python3.10/site-packages (from onnxruntime>=1.16.2->dcm-classifier==0.7.0) (24.3.7)\r\n",
      "Requirement already satisfied: sympy in /home/cavriley/programs/dcm-classifier/venv/lib/python3.10/site-packages (from onnxruntime>=1.16.2->dcm-classifier==0.7.0) (1.12)\r\n",
      "Requirement already satisfied: coloredlogs in /home/cavriley/programs/dcm-classifier/venv/lib/python3.10/site-packages (from onnxruntime>=1.16.2->dcm-classifier==0.7.0) (15.0.1)\r\n",
      "Requirement already satisfied: packaging in /home/cavriley/programs/dcm-classifier/venv/lib/python3.10/site-packages (from onnxruntime>=1.16.2->dcm-classifier==0.7.0) (24.0)\r\n",
      "Requirement already satisfied: tzdata>=2022.7 in /home/cavriley/programs/dcm-classifier/venv/lib/python3.10/site-packages (from pandas>=1.4.0->dcm-classifier==0.7.0) (2024.1)\r\n",
      "Requirement already satisfied: pytz>=2020.1 in /home/cavriley/programs/dcm-classifier/venv/lib/python3.10/site-packages (from pandas>=1.4.0->dcm-classifier==0.7.0) (2024.1)\r\n",
      "Requirement already satisfied: python-dateutil>=2.8.2 in /home/cavriley/programs/dcm-classifier/venv/lib/python3.10/site-packages (from pandas>=1.4.0->dcm-classifier==0.7.0) (2.9.0.post0)\r\n",
      "Requirement already satisfied: six>=1.5 in /home/cavriley/programs/dcm-classifier/venv/lib/python3.10/site-packages (from python-dateutil>=2.8.2->pandas>=1.4.0->dcm-classifier==0.7.0) (1.16.0)\r\n",
      "Requirement already satisfied: humanfriendly>=9.1 in /home/cavriley/programs/dcm-classifier/venv/lib/python3.10/site-packages (from coloredlogs->onnxruntime>=1.16.2->dcm-classifier==0.7.0) (10.0)\r\n",
      "Requirement already satisfied: mpmath>=0.19 in /home/cavriley/programs/dcm-classifier/venv/lib/python3.10/site-packages (from sympy->onnxruntime>=1.16.2->dcm-classifier==0.7.0) (1.3.0)\r\n",
      "Installing collected packages: dcm-classifier\r\n",
      "Successfully installed dcm-classifier-0.7.0\r\n"
     ]
    }
   ],
   "execution_count": 2
  },
  {
   "cell_type": "code",
   "id": "6f60406e6bd8cb36",
   "metadata": {
    "collapsed": false,
    "jupyter": {
     "outputs_hidden": false
    },
    "ExecuteTime": {
     "end_time": "2024-04-09T15:21:52.012641Z",
     "start_time": "2024-04-09T15:21:48.422911Z"
    }
   },
   "source": [
    "from dcm_classifier.study_processing import ProcessOneDicomStudyToVolumesMappingBase\n",
    "from dcm_classifier.image_type_inference import ImageTypeClassifierBase\n",
    "from pathlib import Path\n",
    "\n",
    "\n",
    "current_directory: Path = Path.cwd()\n",
    "root_directory = current_directory.parent\n",
    "\n",
    "session_directory = root_directory / \"tests\" / \"testing_data\" / \"anonymized_testing_data\" / \"anonymized_data\"\n",
    "\n",
    "# create inferer object\n",
    "inferer = ImageTypeClassifierBase()\n",
    "\n",
    "# create study for given session directory\n",
    "study = ProcessOneDicomStudyToVolumesMappingBase(\n",
    "    study_directory=session_directory.as_posix(), inferer=inferer\n",
    ")\n",
    "\n",
    "# run the inference on the study\n",
    "study.run_inference()"
   ],
   "outputs": [
    {
     "name": "stdout",
     "output_type": "stream",
     "text": [
      "The directory: /home/cavriley/programs/dcm-classifier/tests/testing_data/anonymized_testing_data/anonymized_data contains 16 DICOM sub-volumes\n"
     ]
    }
   ],
   "execution_count": 3
  },
  {
   "cell_type": "markdown",
   "id": "aa5ec368dfbd73a3",
   "metadata": {
    "collapsed": false,
    "jupyter": {
     "outputs_hidden": false
    }
   },
   "source": [
    "## DICOM Selection\n",
    "\n",
    "In many applications we are interested in only specific modalities or images acquired along specfic plane. dcm-classifier makes it easy to make this selection. \n",
    "\n",
    "The code below shows how to parse all images within the study and how to choose a specific image, in this example it: Axial T1w\n",
    "\n",
    "NOTE: we can parse on a series or volume level. In most cases series has only one volume but in some cases such as Diffusion Weighted Imaging a series could have multiple volumes and have different `.get_volume_modality()` and `.get_series_modality()` outputs (Example: Volume 'b0' Series: 'dwig' meaning the B0 volume is one of the components of DWI image)"
   ]
  },
  {
   "cell_type": "code",
   "id": "4f2773f3-4667-4655-9c3d-b32a42f5aa60",
   "metadata": {
    "ExecuteTime": {
     "end_time": "2024-04-09T15:22:01.404287Z",
     "start_time": "2024-04-09T15:22:01.358965Z"
    }
   },
   "source": [
    "ax_t1w = None\n",
    "for series_number, series in study.series_dictionary.items():\n",
    "    for index, volume in enumerate(series.get_volume_list()):\n",
    "        volume_modality = volume.get_volume_modality()\n",
    "        volume_acq_plane = volume.get_acquisition_plane()\n",
    "        print(f\"Series Number: {series_number} | Modality: {volume_modality} | Acq Plane: {volume_acq_plane}\")\n",
    "        if volume_modality == \"t1w\" and volume_acq_plane == \"ax\":\n",
    "            ax_t1w = volume.get_itk_image()"
   ],
   "outputs": [
    {
     "name": "stdout",
     "output_type": "stream",
     "text": [
      "Series Number: 11 | Modality: t2w | Acq Plane: ax\n",
      "Series Number: 13 | Modality: t1w | Acq Plane: sag\n",
      "Series Number: 1 | Modality: gret2star | Acq Plane: sag\n",
      "Series Number: 4 | Modality: gret2star | Acq Plane: ax\n",
      "Series Number: 7 | Modality: flair | Acq Plane: ax\n",
      "Series Number: 15 | Modality: t1w | Acq Plane: cor\n",
      "Series Number: 5 | Modality: tracew | Acq Plane: ax\n",
      "Series Number: 5 | Modality: tracew | Acq Plane: ax\n",
      "Series Number: 6 | Modality: adc | Acq Plane: ax\n",
      "Series Number: 9 | Modality: gret2star | Acq Plane: ax\n",
      "Series Number: 3 | Modality: gret2star | Acq Plane: cor\n",
      "Series Number: 2 | Modality: gret2star | Acq Plane: sag\n",
      "Series Number: 10 | Modality: t1w | Acq Plane: sag\n",
      "Series Number: 12 | Modality: t1w | Acq Plane: ax\n",
      "Series Number: 14 | Modality: t1w | Acq Plane: ax\n",
      "Series Number: 8 | Modality: gret2star | Acq Plane: ax\n"
     ]
    }
   ],
   "execution_count": 4
  },
  {
   "cell_type": "markdown",
   "id": "ba68d3dc-c726-460c-9812-64d4e9219fd0",
   "metadata": {},
   "source": [
    "Our volume of interest is the T1w Axial image returned as ITK image"
   ]
  },
  {
   "cell_type": "code",
   "id": "22d80ecb-c6d9-49e0-b5cc-91835d6c44d2",
   "metadata": {
    "ExecuteTime": {
     "end_time": "2024-04-09T15:22:06.405448Z",
     "start_time": "2024-04-09T15:22:06.402296Z"
    }
   },
   "source": [
    "print(type(ax_t1w))\n",
    "print(ax_t1w)"
   ],
   "outputs": [
    {
     "name": "stdout",
     "output_type": "stream",
     "text": [
      "<class 'itk.itkImagePython.itkImageF3'>\n",
      "Image (0x55fc3f6d0760)\n",
      "  RTTI typeinfo:   itk::Image<float, 3u>\n",
      "  Reference Count: 1\n",
      "  Modified Time: 9228\n",
      "  Debug: Off\n",
      "  Object Name: \n",
      "  Observers: \n",
      "    none\n",
      "  Source: (none)\n",
      "  Source output name: (none)\n",
      "  Release Data: Off\n",
      "  Data Released: False\n",
      "  Global Release Data: Off\n",
      "  PipelineMTime: 4653\n",
      "  UpdateMTime: 9227\n",
      "  RealTimeStamp: 0 seconds \n",
      "  LargestPossibleRegion: \n",
      "    Dimension: 3\n",
      "    Index: [0, 0, 0]\n",
      "    Size: [192, 256, 21]\n",
      "  BufferedRegion: \n",
      "    Dimension: 3\n",
      "    Index: [0, 0, 0]\n",
      "    Size: [192, 256, 21]\n",
      "  RequestedRegion: \n",
      "    Dimension: 3\n",
      "    Index: [0, 0, 0]\n",
      "    Size: [192, 256, 21]\n",
      "  Spacing: [0.9375, 0.9375, 7]\n",
      "  Origin: [-91.4058, -112.463, -91.643]\n",
      "  Direction: \n",
      "0.990214 0.056922 -0.127424\n",
      "-0.061412 0.997613 -0.0315869\n",
      "0.125322 0.0391031 0.991345\n",
      "\n",
      "  IndexToPointMatrix: \n",
      "0.928325 0.0533643 -0.891968\n",
      "-0.0575737 0.935262 -0.221108\n",
      "0.117489 0.0366592 6.93942\n",
      "\n",
      "  PointToIndexMatrix: \n",
      "1.05623 -0.0655061 0.133677\n",
      "0.0607168 1.06412 0.04171\n",
      "-0.0182034 -0.00451241 0.141621\n",
      "\n",
      "  Inverse Direction: \n",
      "0.990214 -0.061412 0.125322\n",
      "0.056922 0.997613 0.0391031\n",
      "-0.127424 -0.0315869 0.991345\n",
      "\n",
      "  PixelContainer: \n",
      "    ImportImageContainer (0x55fc3f847140)\n",
      "      RTTI typeinfo:   itk::ImportImageContainer<unsigned long, float>\n",
      "      Reference Count: 1\n",
      "      Modified Time: 5045\n",
      "      Debug: Off\n",
      "      Object Name: \n",
      "      Observers: \n",
      "        none\n",
      "      Pointer: 0x55fc440fbd90\n",
      "      Container manages memory: true\n",
      "      Size: 1032192\n",
      "      Capacity: 1032192\n",
      "\n"
     ]
    }
   ],
   "execution_count": 5
  },
  {
   "cell_type": "markdown",
   "id": "8258caa4e8f6ce9c",
   "metadata": {
    "collapsed": false,
    "jupyter": {
     "outputs_hidden": false
    }
   },
   "source": [
    "## Saving Sequences\n",
    "\n",
    "Saving volumetric data can be done in two ways here - using the ITK library or the popular [dcm2niix](https://github.com/rordenlab/dcm2niix) package. For these examples, we are saving the Axial T1W selected earlier. \n",
    "\n",
    "Note: the example data used has been anonymized and the pixel intensity information was set as 0 for all voxels"
   ]
  },
  {
   "cell_type": "markdown",
   "id": "132dae0cc155b33f",
   "metadata": {
    "collapsed": false,
    "jupyter": {
     "outputs_hidden": false
    }
   },
   "source": [
    "#### Using ITK\n",
    "\n",
    "Once the image is obtained, the image can easily be saved using ITK. ITK is the preferred method for saving the images as it supports all image type supported by ITK such as NIfTI and NRRD in the example below."
   ]
  },
  {
   "cell_type": "code",
   "execution_count": null,
   "id": "dc7624cd311e63ec",
   "metadata": {
    "collapsed": false,
    "jupyter": {
     "outputs_hidden": false
    }
   },
   "outputs": [],
   "source": [
    "import itk\n",
    "\n",
    "# let's follow the BIDS naming system\n",
    "# Note: the information about the study or patient can be obtained using pydicom and a .dcm file corresponing to the volume\n",
    "# However, here we will make up the subject and sesion ids\n",
    "sub = \"sub-01\"\n",
    "ses = \"ses-01\"\n",
    "nifti_name = f\"{sub}_{ses}_desc-ax_t1w.nii.gz\"\n",
    "nrrd_name = f\"{sub}_{ses}_desc-ax_t1w.nrrd\"\n",
    "\n",
    "# save image as nifti and nrrd\n",
    "itk.imwrite(ax_t1w, nifti_name)\n",
    "itk.imwrite(ax_t1w, nrrd_name)"
   ]
  },
  {
   "cell_type": "markdown",
   "id": "a5cbd940-4308-4303-8a1e-1f57a24b1d28",
   "metadata": {},
   "source": [
    "#### Handling multiple images of the same modality\n",
    "\n",
    "We can have more than one image of the same modality. Here is a simple way how to save all the data utilizing the `run` parameter of BIDS format."
   ]
  },
  {
   "cell_type": "code",
   "execution_count": null,
   "id": "264d2632-5282-4fa9-a01e-526f57581192",
   "metadata": {},
   "outputs": [],
   "source": [
    "sub = \"sub-01\"\n",
    "ses = \"ses-01\"\n",
    "output_dir = '.'\n",
    "suffix = '.nii.gz'\n",
    "desc = \"usingITK\"\n",
    "\n",
    "for series_number, series in study.series_dictionary.items():\n",
    "    for index, volume in enumerate(series.get_volume_list()):\n",
    "        modality = volume.get_volume_modality()\n",
    "        plane = volume.get_acquisition_plane()\n",
    "        if modality == \"t1w\" and plane == \"ax\":\n",
    "            itk_volume = volume.get_itk_image() # get image\n",
    "            run_num = 1\n",
    "            fname = f\"{sub}_{ses}_run-00{run_num}_acq-{plane}_desc-{desc}_{modality}{suffix}\" # set filename\n",
    "            while Path(f\"{output_dir}/{fname}\").exists(): # ensure we increase run number instead of overwriting\n",
    "                fname = fname.replace(f\"run-00{run_num}\", f\"run-00{run_num+1}\")\n",
    "                run_num += 1\n",
    "            itk.imwrite(itk_volume, fname)\n",
    "            "
   ]
  },
  {
   "cell_type": "markdown",
   "id": "a234e78bf447bb18",
   "metadata": {
    "collapsed": false,
    "jupyter": {
     "outputs_hidden": false
    }
   },
   "source": [
    "#### Using dcm2niix\n",
    "\n",
    "Using dcm2niix is more complicated. We provide a function that takes path to the dcm2niix script together with other information."
   ]
  },
  {
   "cell_type": "code",
   "execution_count": null,
   "id": "aafd9e0c5aa9c2da",
   "metadata": {
    "collapsed": false,
    "jupyter": {
     "outputs_hidden": false
    }
   },
   "outputs": [],
   "source": [
    "from subprocess import run\n",
    "\n",
    "def create_nifti_file(\n",
    "    dcm2niix_path: str,\n",
    "    subject: str,\n",
    "    session: str,\n",
    "    modality: str,\n",
    "    plane: str,\n",
    "    output_dir: str,\n",
    "    dcm_dir: str,\n",
    "    desc: str = None,\n",
    ") -> None:\n",
    "    run_num = 1\n",
    "    if desc is not None:\n",
    "        fname = (\n",
    "            f\"{subject}_{session}_run-00{run_num}_acq-{plane}_desc-{desc}_{modality}\"\n",
    "        )\n",
    "    else:\n",
    "        fname = f\"{subject}_{session}_run-00{run_num}_acq-{plane}_{modality}\"\n",
    "    while Path(f\"{output_dir}/{fname}.nii.gz\").exists():\n",
    "        fname = fname.replace(f\"run-00{run_num}\", f\"run-00{run_num+1}\")\n",
    "        run_num += 1\n",
    "    run(\n",
    "        [dcm2niix_path, \"-o\", output_dir, \"-f\", fname, \"-z\", \"y\", dcm_dir]\n",
    "    ) \n",
    "    print(f\"{dcm2niix_path} -o {output_dir} -f {fname} -n -z y {dcm_dir}\")"
   ]
  },
  {
   "cell_type": "markdown",
   "id": "ae0313c96f431405",
   "metadata": {
    "collapsed": false,
    "jupyter": {
     "outputs_hidden": false
    }
   },
   "source": [
    "For robustness, the code below will move all individual DICOM files corresponging to the volume to a temporary directory. Then the dcm2niix script uses that directory to reed the files and save the output. The advantage of using the dcm2niix is that it produces the corresponding .json file the process is much more complicated and and slower comparing to ITK option above. "
   ]
  },
  {
   "cell_type": "code",
   "execution_count": null,
   "id": "493469b802c074bb",
   "metadata": {
    "collapsed": false,
    "jupyter": {
     "outputs_hidden": false
    }
   },
   "outputs": [],
   "source": [
    "import tempfile\n",
    "import shutil\n",
    "    \n",
    "dcm2niix_path = \"PATH TO dcm2niix\"\n",
    "\n",
    "sub = \"sub-01-test\"\n",
    "ses = \"ses-01-test\"\n",
    "desc = \"usingdcm2niix\"\n",
    "\n",
    "final_dir_path = \".\"\n",
    "\n",
    "for series_number, series in study.series_dictionary.items():\n",
    "    for index, volume in enumerate(series.get_volume_list()):\n",
    "        if volume.get_volume_modality() == \"t1w\" and volume.get_acquisition_plane() == \"ax\":\n",
    "            temp_dir = tempfile.mkdtemp()\n",
    "            file_list = volume.get_one_volume_dcm_filenames()\n",
    "            for file in file_list:\n",
    "                shutil.copy(file, temp_dir)\n",
    "            create_nifti_file(\n",
    "                dcm2niix_path=dcm2niix_path,\n",
    "                subject=sub,\n",
    "                session=ses,\n",
    "                modality=volume.get_volume_modality(),\n",
    "                plane=volume.get_acquisition_plane(),\n",
    "                output_dir=final_dir_path,\n",
    "                dcm_dir=temp_dir,\n",
    "                desc=desc\n",
    "            )"
   ]
  },
  {
   "cell_type": "code",
   "execution_count": null,
   "id": "fb9b5be8-15f6-43bd-a379-2945c8ff6849",
   "metadata": {},
   "outputs": [],
   "source": []
  }
 ],
 "metadata": {
  "kernelspec": {
   "display_name": "Python 3 (ipykernel)",
   "language": "python",
   "name": "python3"
  },
  "language_info": {
   "codemirror_mode": {
    "name": "ipython",
    "version": 3
   },
   "file_extension": ".py",
   "mimetype": "text/x-python",
   "name": "python",
   "nbconvert_exporter": "python",
   "pygments_lexer": "ipython3",
   "version": "3.10.12"
  }
 },
 "nbformat": 4,
 "nbformat_minor": 5
}
